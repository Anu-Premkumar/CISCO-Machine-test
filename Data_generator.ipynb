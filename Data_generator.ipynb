{
 "cells": [
  {
   "cell_type": "code",
   "execution_count": 26,
   "metadata": {},
   "outputs": [
    {
     "name": "stdout",
     "output_type": "stream",
     "text": [
      "Please enter number of records to be generated\n",
      "10\n",
      "Data is generated for attributes SapId, HostName, LoopBack, MacAddress \n",
      "Do you want to export the data to csv file - enter 1\n",
      "Do you want to see the generated data - enter 2\n",
      "Enter 3 to exit\n",
      "2\n",
      "                SapId         LoopBack HostName         MacAddress\n",
      "0  304925980275912294   127.14.139.251    IAYGY  00:24:81:6f:14:c1\n",
      "1  170753365797592779    127.112.22.90    9MUCZ  00:24:81:50:8f:cc\n",
      "2  421873828975393638   127.85.211.181    8TKE9  00:24:81:47:6e:7c\n",
      "3  883432575482049996     127.6.214.82    UI8KP  00:24:81:49:75:a0\n",
      "4   28195899591359753  127.214.201.221    XN88M  00:24:81:01:cd:97\n",
      "5  150771597200626232   127.102.47.220    IW06X  00:24:81:0b:70:d0\n",
      "6  160697521742893904   127.214.168.65    FLJWU  00:24:81:38:1d:24\n",
      "7  187094121720692125   127.167.78.207    UA38N  00:24:81:04:f6:81\n",
      "8  557196297992297957  127.201.118.167    QW3VH  00:24:81:7b:0e:c1\n",
      "9  114404889296342975    127.246.93.18    IEG0Q  00:24:81:3d:33:78\n"
     ]
    }
   ],
   "source": [
    "import sys,string,csv\n",
    "from randmac import RandMac\n",
    "import random, ipaddress\n",
    "import pandas as pd\n",
    "def DataGenerator(limit):\n",
    "    MacAddressList=[]\n",
    "    LoopBackList=[]\n",
    "    SapIdList=[]\n",
    "    HostNameList=[]\n",
    "    DataDict={}\n",
    "    HostNameLength=5\n",
    "    #limit = 5\n",
    "    for i in range(limit):\n",
    "        MacAddress = [ 0x00, 0x24, 0x81,random.randint(0x00, 0x7f),random.randint(0x00, 0xff),random.randint(0x00, 0xff) ]\n",
    "        MacAddress = ':'.join(map(lambda x: \"%02x\" % x, MacAddress))\n",
    "        MacAddressList.append(MacAddress)\n",
    "        LoopBack = ipaddress.IPv4Address('127.0.0.1') + random.randrange(2**24 - 2)\n",
    "        LoopBackList.append(LoopBack)\n",
    "        SapId = random.randrange(1, 10**18)\n",
    "        SapIdList.append(SapId)\n",
    "        HostName = ''.join(random.choices(string.ascii_uppercase + string.digits, k = HostNameLength)) \n",
    "        HostNameList.append(HostName)\n",
    "    DataDict['SapId']=  SapIdList\n",
    "    DataDict['LoopBack']=  LoopBackList\n",
    "    DataDict['HostName']=  HostNameList\n",
    "    DataDict['MacAddress']=  MacAddressList\n",
    "    df=pd.DataFrame.from_dict(DataDict,orient='index').transpose()\n",
    "    print(\"Data is generated for attributes SapId, HostName, LoopBack, MacAddress \\nDo you want to export the data to csv file - enter 1\\nDo you want to see the generated data - enter 2\\nEnter 3 to exit\")\n",
    "    UserChoice=input()\n",
    "    if UserChoice==\"2\":\n",
    "        print(df)\n",
    "        return DataDict\n",
    "    elif UserChoice==\"1\":\n",
    "        df.to_csv('Result.csv')\n",
    "    elif UserChoice==\"3\":\n",
    "        quit\n",
    "    else:\n",
    "        print(\"Sorry, that was an invalid input, Aborting\")\n",
    "        quit\n",
    "if __name__==\"__main__\": \n",
    "    print(\"Please enter number of records to be generated\")\n",
    "    limit = int(input())\n",
    "    DataGenerator(limit)"
   ]
  },
  {
   "cell_type": "markdown",
   "metadata": {},
   "source": [
    "Alternative approach for the number of records to be generated is to pass as an argument via command prompt.\n",
    "I"
   ]
  }
 ],
 "metadata": {
  "kernelspec": {
   "display_name": "Python 3",
   "language": "python",
   "name": "python3"
  },
  "language_info": {
   "codemirror_mode": {
    "name": "ipython",
    "version": 3
   },
   "file_extension": ".py",
   "mimetype": "text/x-python",
   "name": "python",
   "nbconvert_exporter": "python",
   "pygments_lexer": "ipython3",
   "version": "3.7.3"
  }
 },
 "nbformat": 4,
 "nbformat_minor": 2
}
